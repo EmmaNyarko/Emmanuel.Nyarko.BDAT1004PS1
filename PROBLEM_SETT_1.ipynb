{
 "cells": [
  {
   "cell_type": "markdown",
   "id": "05ad31a4",
   "metadata": {},
   "source": [
    "# PROBLEM SET 1\n",
    "# Question 1\n",
    "\n",
    "The data types are:"
   ]
  },
  {
   "cell_type": "markdown",
   "id": "aabf4fc8",
   "metadata": {},
   "source": [
    "1.   5 ===> number (integer)\n",
    "2.   5.0 ===> number (float)\n",
    "3.   5 > 1  =====> This returns \"True\" which is Boolean\n",
    "4.   '5'  =====> This is string\n",
    "5.   5 * 2  =====> This returns 10, which is number (integer)\n",
    "6.   '5' * 2 ===> This returns 55 which is string\n",
    "7.   '5' + '2' =====> This returns 52 which is a string\n",
    "8.    5 / 2  ====> This returns 2.5 which is a float\n",
    "9.    5 % 2 ====> This returns the remainder when 5 is divided by 2. It returns 1 which is number ( integer).\n",
    "10.   {5, 2, 1} ===> This is list\n",
    "11.   5 == 3     ====> This returns false which is Boolean\n",
    "12.   Pi (the number) =====> This gives 3.141592653589793 which is a float"
   ]
  },
  {
   "cell_type": "code",
   "execution_count": 1,
   "id": "134fcded",
   "metadata": {},
   "outputs": [
    {
     "name": "stdout",
     "output_type": "stream",
     "text": [
      "<class 'int'>\n",
      "<class 'float'>\n",
      "<class 'bool'>\n",
      "<class 'str'>\n",
      "<class 'int'>\n",
      "<class 'str'>\n",
      "<class 'str'>\n",
      "<class 'float'>\n",
      "<class 'int'>\n",
      "<class 'set'>\n",
      "<class 'bool'>\n",
      "<class 'float'>\n"
     ]
    }
   ],
   "source": [
    "print(type(5))              #1\n",
    "print(type(5.0) )           #2\n",
    "print(type(5 > 1))          #3\n",
    "print(type('5'))            #4\n",
    "print(type(5 * 2) )         #5 \n",
    "print(type('5' * 2))        #6\n",
    "print(type('5' + '2'))      #7\n",
    "print(type( 5 / 2))         #8\n",
    "print(type(5 % 2) )         #9 \n",
    "print(type({5, 2, 1}))     #10\n",
    "print(type(5 == 3))        #11\n",
    "import math\n",
    "print(type(math.pi))       #12 "
   ]
  },
  {
   "cell_type": "markdown",
   "id": "e0002af2",
   "metadata": {},
   "source": [
    "# Question 2\n",
    "Write (and evaluate) python expressions that answer these questions:\n",
    "\n",
    "A. How many letters are there in 'Supercalifragilisticexpialidocious'?"
   ]
  },
  {
   "cell_type": "code",
   "execution_count": 2,
   "id": "a43539ac",
   "metadata": {},
   "outputs": [
    {
     "name": "stdout",
     "output_type": "stream",
     "text": [
      "34\n"
     ]
    }
   ],
   "source": [
    "P='Supercalifragilisticexpialidocious'\n",
    "print(len(P))"
   ]
  },
  {
   "cell_type": "markdown",
   "id": "30af7104",
   "metadata": {},
   "source": [
    "B. Does 'Supercalifragilisticexpialidocious' contain 'ice' as a substring?"
   ]
  },
  {
   "cell_type": "code",
   "execution_count": 3,
   "id": "273a205e",
   "metadata": {},
   "outputs": [
    {
     "name": "stdout",
     "output_type": "stream",
     "text": [
      "True\n"
     ]
    }
   ],
   "source": [
    "print('ice' in P)"
   ]
  },
  {
   "cell_type": "markdown",
   "id": "db545c30",
   "metadata": {},
   "source": [
    "C. Which of the following words is the longest: Supercalifragilisticexpialidocious, Honorificabilitudinitatibus, or Bababadalgharaghtakamminarronnkonn?"
   ]
  },
  {
   "cell_type": "code",
   "execution_count": 4,
   "id": "fa98b298",
   "metadata": {},
   "outputs": [
    {
     "name": "stdout",
     "output_type": "stream",
     "text": [
      "Supercalifragilisticexpialidocious\n"
     ]
    }
   ],
   "source": [
    "list_1=['Supercalifragilisticexpialidocious', 'Honorificabilitudinitatibus', 'Bababadalgharaghtakamminarronnkonn']\n",
    "print(max(list_1))"
   ]
  },
  {
   "cell_type": "markdown",
   "id": "5ccb9d58",
   "metadata": {},
   "source": [
    "D. Which composer comes first in the dictionary: 'Berlioz', 'Borodin', 'Brian', \n",
    "'Bartok', 'Bellini', 'Buxtehude', 'Bernstein'. Which one comes last?"
   ]
  },
  {
   "cell_type": "code",
   "execution_count": 5,
   "id": "6b849cc4",
   "metadata": {},
   "outputs": [
    {
     "name": "stdout",
     "output_type": "stream",
     "text": [
      "['Bartok', 'Bellini', 'Berlioz', 'Bernstein', 'Borodin', 'Brian', 'Buxtehude']\n",
      "Bartok\n",
      "Buxtehude\n"
     ]
    }
   ],
   "source": [
    "list_2=['Berlioz', 'Borodin', 'Brian', 'Bartok', 'Bellini', 'Buxtehude', 'Bernstein']\n",
    "list_2.sort()\n",
    "#Newl sorted list\n",
    "print(list_2)\n",
    "#For the name that comes first\n",
    "print(list_2[0])\n",
    "#For the name that comes last\n",
    "print(list_2[-1])"
   ]
  },
  {
   "cell_type": "markdown",
   "id": "ba551711",
   "metadata": {},
   "source": [
    "# Question 3\n",
    "Implement function triangleArea(a,b,c) that takes as input the lengths of the 3sides of a triangle and returns the area of the triangle. By Heron's formula, the area of a triangle with side lengths a, b, and c is square root of s(s - a)(s -b)(s -c), where s = (a+b+c)/2. "
   ]
  },
  {
   "cell_type": "code",
   "execution_count": 6,
   "id": "48f3fdfb",
   "metadata": {},
   "outputs": [
    {
     "data": {
      "text/plain": [
       "1.7320508075688772"
      ]
     },
     "execution_count": 6,
     "metadata": {},
     "output_type": "execute_result"
    }
   ],
   "source": [
    "import math\n",
    "def triangleArea(a,b,c):\n",
    "    s=(a+b+c)/2\n",
    "    triangleArea=math.sqrt(s*(s-a)*(s-b)*(s-c))\n",
    "    return(triangleArea)\n",
    "triangleArea(2,2,2)"
   ]
  },
  {
   "cell_type": "markdown",
   "id": "fd88372f",
   "metadata": {},
   "source": [
    "# Question 4\n",
    "Write a program in python to separate odd and even integers in separate arrays. Go \n",
    "to the editor\n",
    "Test Data :\n",
    "Input the number of elements to be stored in the array :5\n",
    "Input 5 elements in the array :\n",
    "element - 0 : 25\n",
    "element - 1 : 47\n",
    "element - 2 : 42\n",
    "element - 3 : 56\n",
    "element - 4 : 32\n",
    "Expected Output:\n",
    "The Even elements are:\n",
    "42 56 32\n",
    "The Odd elements are :\n",
    "25 47"
   ]
  },
  {
   "cell_type": "code",
   "execution_count": 7,
   "id": "f7327396",
   "metadata": {},
   "outputs": [
    {
     "name": "stdout",
     "output_type": "stream",
     "text": [
      "please input the number of elements to be stored: 5\n",
      "element-0 : 25\n",
      "element-1 : 47\n",
      "element-2 : 42\n",
      "element-3 : 56\n",
      "element-4 : 32\n",
      "The even elements are [42, 56, 32]\n",
      "The odd elements are [25, 47]\n"
     ]
    }
   ],
   "source": [
    "# input for the number of elements\n",
    "elements=int(input('please input the number of elements to be stored: '))\n",
    "# arrays initializes for both odd and even numbers\n",
    "even_numbers=[]\n",
    "odd_numbers=[]\n",
    "# condition for separating the elements\n",
    "for i in range(elements):                              # restricts inputs to input number of elements\n",
    "    number=int(input(\"element-\"+ str(i)+ \" : \"))        # accepts input elements\n",
    "    if number%2==0:\n",
    "        even_numbers.append(number)\n",
    "    else:\n",
    "        odd_numbers.append(number)\n",
    "print('The even elements are',even_numbers )\n",
    "print('The odd elements are',odd_numbers )"
   ]
  },
  {
   "cell_type": "markdown",
   "id": "5baa83dc",
   "metadata": {},
   "source": [
    "# Question 5 \n",
    "A. Write a function inside(x,y,x1,y1,x2,y2) that returns True or False \n",
    "depending on whether the point (x,y) lies in the rectangle with lower left \n",
    "corner (x1,y1) and upper right corner (x2,y2).\n",
    "inside(1,1,0,0,2,3)\n",
    "True\n",
    "inside(-1,-1,0,0,2,3)\n",
    "False"
   ]
  },
  {
   "cell_type": "code",
   "execution_count": 8,
   "id": "a4ef8311",
   "metadata": {},
   "outputs": [
    {
     "name": "stdout",
     "output_type": "stream",
     "text": [
      "True\n",
      "False\n"
     ]
    }
   ],
   "source": [
    "def inside(x,y,x1,y1,x2,y2):\n",
    "    if x1<=x <=x2 and y1<=y<=y2:\n",
    "        return True\n",
    "    else:\n",
    "        return False\n",
    "print(inside(1,1,0,0,2,3))\n",
    "print(inside(-1,-1,0,0,2,3))"
   ]
  },
  {
   "cell_type": "markdown",
   "id": "4ed4910c",
   "metadata": {},
   "source": [
    "B. Use function inside() from part a. to write an expression that tests whether the point (1,1) lies in both of the following rectangles: one with lower left corner (0.3, 0.5) and upper right corner (1.1, 0.7) and the other with lower left corner (0.5, 0.2) and upper right corner (1.1, 2)."
   ]
  },
  {
   "cell_type": "code",
   "execution_count": 9,
   "id": "8a27f6ad",
   "metadata": {},
   "outputs": [
    {
     "name": "stdout",
     "output_type": "stream",
     "text": [
      "is (1,1) in rectangle_1? False\n",
      "is (1,1) in rectangle_2? True\n",
      "is (1,1) in both rectangle_1 and rectangle_2? False\n"
     ]
    }
   ],
   "source": [
    "# Define the coordinates of the rectangles\n",
    "rectangle_1=(0.3,0.5,1.1,0.7) \n",
    "rectangle_2=(0.5,0.2,1.1,2)\n",
    "# test if point (1,1) lies inside both  rectangles\n",
    "point=(1,1)\n",
    "is_in_rectangle_1=inside(point[0],point[1],rectangle_1[0],rectangle_1[1],rectangle_1[2],rectangle_1[3])\n",
    "is_in_rectangle_2=inside(point[0],point[1],rectangle_2[0],rectangle_2[1],rectangle_2[2],rectangle_2[3])\n",
    "\n",
    "print('is (1,1) in rectangle_1?'  ,is_in_rectangle_1)\n",
    "print('is (1,1) in rectangle_2?'  ,is_in_rectangle_2)\n",
    "print('is (1,1) in both rectangle_1 and rectangle_2?'  ,is_in_rectangle_1 and is_in_rectangle_2)"
   ]
  },
  {
   "cell_type": "markdown",
   "id": "69fc1eb2",
   "metadata": {},
   "source": [
    "# Question 6\n",
    "You can turn a word into pig-Latin using the following two rules (simplified): • If the word starts with a consonant, move that letter to the end and append 'ay'. For example, 'happy' becomes 'appyhay' and 'pencil' becomes 'encilpay'. • If the word starts with a vowel, simply append 'way' to the end of the word. For example, 'enter' becomes 'enterway' and 'other' becomes 'otherway' . For our purposes, there are 5 vowels: a, e, i, o, u (so we count y as a consonant). Write a function pig() that takes a word (i.e., a string) as input and returns its pig\u0002Latin form. Your function should still work if the input word contains upper case characters. Your output should always be lower case however. pig('happy') 'appyhay' pig('Enter') 'enterway'"
   ]
  },
  {
   "cell_type": "code",
   "execution_count": 10,
   "id": "3040b9fc",
   "metadata": {},
   "outputs": [
    {
     "name": "stdout",
     "output_type": "stream",
     "text": [
      "appyhay\n",
      "enterway\n"
     ]
    }
   ],
   "source": [
    "def pig(word):\n",
    "    vowels = 'aeiou'\n",
    "    if word[0].lower() in vowels:      ## the first letter of the word is converted to lower case\n",
    "        return word.lower() + 'way'\n",
    "    else:\n",
    "        return word[1:].lower() + word[0].lower() + 'ay' \n",
    "## putting words into the function\n",
    "print(pig('happy'))\n",
    "print(pig('Enter'))"
   ]
  },
  {
   "cell_type": "markdown",
   "id": "e0ea4b28",
   "metadata": {},
   "source": [
    "# Question 7\n",
    "File bloodtype1.txt records blood-types of patients (A, B, AB, O or OO) at a clinic. Write a function bldcount() that reads the file with name name and reports (i.e., prints) how many patients there are in each bloodtype.bldcount('bloodtype.txt')\n",
    "There are 10 patients of blood type A.\n",
    "There is one patient of blood type B.\n",
    "There are 10 patients of blood type AB.\n",
    "There are 12 patients of blood type O.\n",
    "There are no patients of blood type OO."
   ]
  },
  {
   "cell_type": "code",
   "execution_count": 11,
   "id": "03f37feb",
   "metadata": {},
   "outputs": [
    {
     "name": "stdout",
     "output_type": "stream",
     "text": [
      "There are 15 patients of blood type A.\n",
      "There is one patient of blood type B.\n",
      "There are 13 patients of blood type AB.\n",
      "There are 15 patients of blood type O.\n",
      "There are no patients of blood type OO.\n"
     ]
    }
   ],
   "source": [
    "def bldcount(dataset):\n",
    "    blood_counts = {'A': 0, 'B': 0, 'AB': 0, 'O': 0, 'OO': 0}\n",
    "    with open(dataset, 'r') as data:\n",
    "        contents = data.read()\n",
    "        blood_types = contents.split()\n",
    "        for blood_type in blood_types:\n",
    "            if blood_type in blood_counts:\n",
    "                blood_counts[blood_type] += 1\n",
    "            else:\n",
    "                print(f\"Unknown blood type '{blood_type}' found in the file.\")\n",
    "        for blood_type, count in blood_counts.items():\n",
    "            if count == 1:\n",
    "                print(f\"There is one patient of blood type {blood_type}.\")\n",
    "            elif count > 1:\n",
    "                print(f\"There are {count} patients of blood type {blood_type}.\")\n",
    "            else:\n",
    "                print(f\"There are no patients of blood type {blood_type}.\")\n",
    "\n",
    "bldcount('bloodtype1.txt')"
   ]
  },
  {
   "cell_type": "markdown",
   "id": "46b9dd9a",
   "metadata": {},
   "source": [
    "# Question 8\n",
    "Write a function curconv() that takes as input:\n",
    "1. a currency represented using a string (e.g., 'JPY' for the Japanese Yen or 'EUR' for the Euro)\n",
    "2. an amount and then converts and returns the amount in US dollars."
   ]
  },
  {
   "cell_type": "code",
   "execution_count": 12,
   "id": "6b3c0b9b",
   "metadata": {},
   "outputs": [
    {
     "name": "stdout",
     "output_type": "stream",
     "text": [
      "Currency Rates: {'AUD': 1.0345157, 'CHF': 1.0237414, 'CNY': 0.1550176, 'DKK': 0.1651442, 'EUR': 1.2296544, 'GBP': 1.5550989, 'HKD': 0.1270207, 'INR': 0.0177643, 'JPY': 0.01241401, 'MXN': 0.0751848, 'MYR': 0.3145411, 'NOK': 0.1677063, 'NZD': 0.8003591, 'PHP': 0.0233234, 'SEK': 0.148269, 'SGD': 0.788871, 'THB': 0.0313789}\n",
      "Enter the currency code: EUR\n",
      "Enter the amount: 100\n",
      "Converted Amount: 122.96544\n"
     ]
    }
   ],
   "source": [
    "def curconv():\n",
    "    with open('currencies.txt', 'r') as file:\n",
    "        lines = file.readlines()\n",
    "\n",
    "    currency_rates = {}\n",
    "\n",
    "    for line in lines:\n",
    "        parts = line.split()\n",
    "        code = parts[0]\n",
    "        rate = float(parts[1])\n",
    "        currency_rates[code] = rate\n",
    "\n",
    "    print(\"Currency Rates:\", currency_rates)\n",
    "\n",
    "    currency = input(\"Enter the currency code: \").upper()\n",
    "    amount = float(input(\"Enter the amount: \"))\n",
    "\n",
    "    if currency in currency_rates:\n",
    "        usd_amount = amount * currency_rates[currency]\n",
    "        return usd_amount\n",
    "    else:\n",
    "        print(f\"Currency '{currency}' is not found in the file.\")\n",
    "        return None\n",
    "\n",
    "print(\"Converted Amount:\", curconv())"
   ]
  },
  {
   "cell_type": "markdown",
   "id": "4cf64ce4",
   "metadata": {},
   "source": [
    "# Question 9\n",
    "Each of the following will cause an exception (an error). Identify what type of exception each will cause.\n",
    "\n",
    "1. Trying to add incompatible variables, as in adding 6 + ‘a’\n",
    "\n",
    "This gives TypeError. This happens because an integer cannot be added to string with the '+' sign\n"
   ]
  },
  {
   "cell_type": "markdown",
   "id": "eb39463b",
   "metadata": {},
   "source": [
    "2. Referring to the 12th item of a list that has only 10 items\n",
    "\n",
    "This gives IndexError. This happens because you cannot access the 12th item from a list containing ten items."
   ]
  },
  {
   "cell_type": "markdown",
   "id": "4f27b32b",
   "metadata": {},
   "source": [
    "3.Using a value that is out of range for a function’s input, such as calling math.sqrt(-1.0)\n",
    "\n",
    "This gives ValueError. This happens because square root does not take negative values as its input."
   ]
  },
  {
   "cell_type": "markdown",
   "id": "aa304cf3",
   "metadata": {},
   "source": [
    "4. Using an undeclared variable, such as print(x)when x has not been defined\n",
    "\n",
    "It gives NameError since we are trying to evaluate an unassigned name"
   ]
  },
  {
   "cell_type": "markdown",
   "id": "f3cc00f7",
   "metadata": {},
   "source": [
    "5.Trying to open a file that does not exist, such as mistyping the file name or looking in the wrong \n",
    "directory. \n",
    "\n",
    "When accessing a file that is not existing in the current directory or on the given path, then FileNotFoundError shows."
   ]
  },
  {
   "cell_type": "markdown",
   "id": "68abf159",
   "metadata": {},
   "source": [
    "# Question 10\n",
    "\n",
    "Encryption is the process of hiding the meaning of a text by substituting letters in the \n",
    "message with other letters, according to some system. If the process is successful, no \n",
    "one but the intended recipient can understand the encrypted message. Cryptanalysis\n",
    "refers to attempts to undo the encryption, even if some details of the encryption are \n",
    "unknown (for example, if an encrypted message has been intercepted). The first step \n",
    "of cryptanalysis is often to build up a table of letter frequencies in the encrypted text. \n",
    "Assume that the string letters is already defined as \n",
    "'abcdefghijklmnopqrstuvwxyz'. Write a function called frequencies()\n",
    "that takes a string as its only parameter, and returns a list of integers, showing the \n",
    "number of times each character appears in the text. Your function may ignore any \n",
    "characters that are not in letters. \n",
    "frequencies('The quick red fox got bored and went home.')\n",
    "[1, 1, 1, 3, 5, 1, 1, 2, 1, 0, 1, 0, 1, 2, 4, 0, 1, 2, 0, 2, \n",
    "1, 0, 1, 1, 0, 0]\n",
    "frequencies('apple')"
   ]
  },
  {
   "cell_type": "code",
   "execution_count": 13,
   "id": "9b078ad7",
   "metadata": {},
   "outputs": [
    {
     "name": "stdout",
     "output_type": "stream",
     "text": [
      "Enter the text: The quick red fox got bored and went home\n",
      "[1, 1, 1, 3, 5, 1, 1, 2, 1, 0, 1, 0, 1, 2, 4, 0, 1, 2, 0, 3, 1, 0, 1, 1, 0, 0]\n",
      "Enter the text: apple\n",
      "[1, 0, 0, 0, 1, 0, 0, 0, 0, 0, 0, 1, 0, 0, 0, 2, 0, 0, 0, 0, 0, 0, 0, 0, 0, 0]\n"
     ]
    }
   ],
   "source": [
    "def frequencies(text):\n",
    "   \n",
    "    letters = 'abcdefghijklmnopqrstuvwxyz'\n",
    "    frequency_list = [0] * 26\n",
    "    text = text.lower()\n",
    "    for char in text: \n",
    "        if char in letters:\n",
    "            index = letters.index(char)\n",
    "            frequency_list[index] += 1\n",
    "    return frequency_list\n",
    "\n",
    "\n",
    "text1 = input(\"Enter the text: \")\n",
    "print(frequencies(text1))\n",
    "text2 = input(\"Enter the text: \")\n",
    "print(frequencies(text2))"
   ]
  }
 ],
 "metadata": {
  "kernelspec": {
   "display_name": "Python 3 (ipykernel)",
   "language": "python",
   "name": "python3"
  },
  "language_info": {
   "codemirror_mode": {
    "name": "ipython",
    "version": 3
   },
   "file_extension": ".py",
   "mimetype": "text/x-python",
   "name": "python",
   "nbconvert_exporter": "python",
   "pygments_lexer": "ipython3",
   "version": "3.11.7"
  }
 },
 "nbformat": 4,
 "nbformat_minor": 5
}
